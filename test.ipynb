{
 "cells": [
  {
   "cell_type": "code",
   "execution_count": 3,
   "metadata": {},
   "outputs": [
    {
     "data": {
      "text/html": [
       "<pre style=\"white-space:pre;overflow-x:auto;line-height:normal;font-family:Menlo,'DejaVu Sans Mono',consolas,'Courier New',monospace\"><span style=\"color: #808000; text-decoration-color: #808000; font-weight: bold\">/tmp/ipykernel_12226/3546996492.py:</span><span style=\"color: #808000; text-decoration-color: #808000; font-weight: bold\">23</span><span style=\"color: #808000; text-decoration-color: #808000; font-weight: bold\"> RemovedInAirflow3Warning</span><span style=\"color: #808000; text-decoration-color: #808000\">: Param `schedule_interval` is deprecated and will be removed in a future release. Please use `schedule` instead.</span>\n",
       "</pre>\n"
      ],
      "text/plain": [
       "\u001b[1;33m/tmp/ipykernel_12226/\u001b[0m\u001b[1;33m3546996492.py\u001b[0m\u001b[1;33m:\u001b[0m\u001b[1;33m23\u001b[0m\u001b[1;33m RemovedInAirflow3Warning\u001b[0m\u001b[33m: Param `schedule_interval` is deprecated and will be removed in a future release. Please use `schedule` instead.\u001b[0m\n"
      ]
     },
     "metadata": {},
     "output_type": "display_data"
    }
   ],
   "source": [
    "import json\n",
    "import pathlib\n",
    "import airflow.utils.dates\n",
    "import requests\n",
    "import requests.exceptions as requests_exceptions\n",
    "from airflow import DAG\n",
    "from airflow.operators.bash import BashOperator\n",
    "from airflow.operators.python import PythonOperator\n",
    "from datetime import datetime, timedelta\n",
    "import pendulum\n",
    "import os\n",
    "import pandas as pd\n",
    "import requests\n",
    "import csv\n",
    "import os\n",
    "import subprocess\n",
    "import pyarrow as pa\n",
    "import pyarrow.fs as fs\n",
    "# from hdfs import InsecureClient\n",
    "\n",
    "kst = pendulum.timezone(\"Asia/Seoul\")\n",
    "\n",
    "dag = DAG(\n",
    "    dag_id = 'subway_load',\n",
    "    description=\"subway_test\",\n",
    "    start_date=datetime(2024, 7,1, tzinfo=kst),\n",
    "    schedule_interval=\"*/5 0 * * *\",\n",
    "    catchup=False,\n",
    ")\n",
    "\n",
    "#1  \n",
    "def get_info_realtime():\n",
    "    url = 'http://swopenapi.seoul.go.kr/api/subway/6a704b554e6b73653638687a4a6747/json/realtimeStationArrival/ALL/1/5'\n",
    "    r = requests.get(url).json()\n",
    "    data = pd.json_normalize(r,record_path=['realtimeArrivalList'])\n",
    "    filtered_data = {key: r['errorMessage'][key] for key in ['status', 'code', 'message']}\n",
    "    mes = pd.DataFrame([filtered_data])  \n",
    "    sample = data[['subwayId','statnNm','arvlMsg2','arvlMsg3','arvlCd','barvlDt','bstatnNm','updnLine','lstcarAt']]\n",
    "    sample['subwayId'] = sample['subwayId'].astype(int)\n",
    "    sample = sample[(sample['subwayId'] > 1000) & (sample['subwayId'] < 1010)].sort_values(by='subwayId', ascending=True)\n",
    "    for col in mes.columns:\n",
    "        sample[col] = mes[col].iloc[0]\n",
    "    return sample\n",
    "    \n",
    "\n",
    "#load_realtime_position\n",
    "def get_info_position():\n",
    "    arrive = pd.DataFrame()\n",
    "    for i in range(1, 10):\n",
    "        url = f'http://swopenapi.seoul.go.kr/api/subway/7874454f7a637733313033434a626b61/json/realtimePosition/0/1000/{i}호선'\n",
    "        r = requests.get(url).json()\n",
    "        data = pd.json_normalize(r, record_path=['realtimePositionList'])\n",
    "        filtered_data = {key: r['errorMessage'][key] for key in ['status', 'code', 'message']}\n",
    "        mes = pd.DataFrame([filtered_data])\n",
    "        sample = data[['subwayId', 'statnId', 'statnNm','updnLine']]\n",
    "        sample['subwayId'] = sample['subwayId'].astype(int)\n",
    "        sample = sample[(sample['subwayId'] > 1000) & (sample['subwayId'] < 1009)].sort_values(by='subwayId', ascending=True)\n",
    "        for col in mes.columns:\n",
    "            sample[col] = mes[col].iloc[0]\n",
    "        arrive = pd.concat([arrive, sample], ignore_index=True)\n",
    "    return arrive\n",
    "\n",
    "#2\n",
    "def merge_send2kafka():\n",
    "    realtime = get_info_realtime()\n",
    "    position = get_info_position()\n",
    "    merged_df = pd.merge(realtime, position, on=['subwayId', 'statnNm'], suffixes=('', '_realtime'), how='inner')\n",
    "    merged_df.drop_duplicates(subset = 'arvlMsg2', keep = 'first', inplace = True)\n",
    "    sub_Nm = {\n",
    "    '1001' : '1호선',\n",
    "    '1002' : '2호선',\n",
    "    '1003' : '3호선',\n",
    "    '1004' : '4호선',\n",
    "    '1005' : '5호선',\n",
    "    '1006' : '6호선',\n",
    "    '1007' : '7호선',\n",
    "    '1008' : '8호선',}\n",
    "    arr_cd = {\n",
    "    '0' : '진입',\n",
    "    '1' : '도착',\n",
    "    '2' : '출발',\n",
    "    '3' : '전역출발',\n",
    "    '4' : '전역진입',\n",
    "    '5' : '전역도착',\n",
    "    '99' : '운행중'}\n",
    "    \n",
    "    updnLine_Nm = {\n",
    "        '0' : '상행/내선',\n",
    "        '1' : '하행/외선'\n",
    "    }\n",
    "    \n",
    "    for i,k in sub_Nm.items():\n",
    "        merged_df['subwayId'] = merged_df['subwayId'].astype(str).apply(lambda x : x.replace(i,k))\n",
    "    for l,m in arr_cd.items():\n",
    "        merged_df['arvlCd'] = merged_df['arvlCd'].astype(str).apply(lambda x : x.replace(l,m))\n",
    "    for j,n in updnLine_Nm.items():\n",
    "        merged_df['updnLine'] = merged_df['updnLine'].astype(str).apply(lambda x : x.replace(j,n))\n",
    "        \n",
    "    return merged_df.to_csv('./realtime_subway.csv', index = False, encoding = 'utf-8-sig')\n"
   ]
  },
  {
   "cell_type": "code",
   "execution_count": 4,
   "metadata": {},
   "outputs": [
    {
     "data": {
      "text/html": [
       "<pre style=\"white-space:pre;overflow-x:auto;line-height:normal;font-family:Menlo,'DejaVu Sans Mono',consolas,'Courier New',monospace\"><span style=\"color: #808000; text-decoration-color: #808000; font-weight: bold\">/tmp/ipykernel_12226/3546996492.py:</span><span style=\"color: #808000; text-decoration-color: #808000; font-weight: bold\">39</span><span style=\"color: #808000; text-decoration-color: #808000; font-weight: bold\"> SettingWithCopyWarning</span><span style=\"color: #808000; text-decoration-color: #808000\">: </span>\n",
       "<span style=\"color: #808000; text-decoration-color: #808000\">A value is trying to be set on a copy of a slice from a DataFrame.</span>\n",
       "<span style=\"color: #808000; text-decoration-color: #808000\">Try using .loc</span><span style=\"color: #808000; text-decoration-color: #808000; font-weight: bold\">[</span><span style=\"color: #808000; text-decoration-color: #808000\">row_indexer,col_indexer</span><span style=\"color: #808000; text-decoration-color: #808000; font-weight: bold\">]</span><span style=\"color: #808000; text-decoration-color: #808000\"> = value instead</span>\n",
       "\n",
       "<span style=\"color: #808000; text-decoration-color: #808000\">See the caveats in the documentation: </span><span style=\"color: #808000; text-decoration-color: #808000; text-decoration: underline\">https://pandas.pydata.org/pandas-docs/stable/user_guide/indexing.html#returning-a-view-versus-a-copy</span>\n",
       "</pre>\n"
      ],
      "text/plain": [
       "\u001b[1;33m/tmp/ipykernel_12226/\u001b[0m\u001b[1;33m3546996492.py\u001b[0m\u001b[1;33m:\u001b[0m\u001b[1;33m39\u001b[0m\u001b[1;33m SettingWithCopyWarning\u001b[0m\u001b[33m: \u001b[0m\n",
       "\u001b[33mA value is trying to be set on a copy of a slice from a DataFrame.\u001b[0m\n",
       "\u001b[33mTry using .loc\u001b[0m\u001b[1;33m[\u001b[0m\u001b[33mrow_indexer,col_indexer\u001b[0m\u001b[1;33m]\u001b[0m\u001b[33m = value instead\u001b[0m\n",
       "\n",
       "\u001b[33mSee the caveats in the documentation: \u001b[0m\u001b[4;33mhttps://pandas.pydata.org/pandas-docs/stable/user_guide/indexing.html#returning-a-view-versus-a-copy\u001b[0m\n"
      ]
     },
     "metadata": {},
     "output_type": "display_data"
    },
    {
     "data": {
      "text/html": [
       "<pre style=\"white-space:pre;overflow-x:auto;line-height:normal;font-family:Menlo,'DejaVu Sans Mono',consolas,'Courier New',monospace\"><span style=\"color: #808000; text-decoration-color: #808000; font-weight: bold\">/tmp/ipykernel_12226/3546996492.py:</span><span style=\"color: #808000; text-decoration-color: #808000; font-weight: bold\">56</span><span style=\"color: #808000; text-decoration-color: #808000; font-weight: bold\"> SettingWithCopyWarning</span><span style=\"color: #808000; text-decoration-color: #808000\">: </span>\n",
       "<span style=\"color: #808000; text-decoration-color: #808000\">A value is trying to be set on a copy of a slice from a DataFrame.</span>\n",
       "<span style=\"color: #808000; text-decoration-color: #808000\">Try using .loc</span><span style=\"color: #808000; text-decoration-color: #808000; font-weight: bold\">[</span><span style=\"color: #808000; text-decoration-color: #808000\">row_indexer,col_indexer</span><span style=\"color: #808000; text-decoration-color: #808000; font-weight: bold\">]</span><span style=\"color: #808000; text-decoration-color: #808000\"> = value instead</span>\n",
       "\n",
       "<span style=\"color: #808000; text-decoration-color: #808000\">See the caveats in the documentation: </span><span style=\"color: #808000; text-decoration-color: #808000; text-decoration: underline\">https://pandas.pydata.org/pandas-docs/stable/user_guide/indexing.html#returning-a-view-versus-a-copy</span>\n",
       "</pre>\n"
      ],
      "text/plain": [
       "\u001b[1;33m/tmp/ipykernel_12226/\u001b[0m\u001b[1;33m3546996492.py\u001b[0m\u001b[1;33m:\u001b[0m\u001b[1;33m56\u001b[0m\u001b[1;33m SettingWithCopyWarning\u001b[0m\u001b[33m: \u001b[0m\n",
       "\u001b[33mA value is trying to be set on a copy of a slice from a DataFrame.\u001b[0m\n",
       "\u001b[33mTry using .loc\u001b[0m\u001b[1;33m[\u001b[0m\u001b[33mrow_indexer,col_indexer\u001b[0m\u001b[1;33m]\u001b[0m\u001b[33m = value instead\u001b[0m\n",
       "\n",
       "\u001b[33mSee the caveats in the documentation: \u001b[0m\u001b[4;33mhttps://pandas.pydata.org/pandas-docs/stable/user_guide/indexing.html#returning-a-view-versus-a-copy\u001b[0m\n"
      ]
     },
     "metadata": {},
     "output_type": "display_data"
    },
    {
     "data": {
      "text/html": [
       "<pre style=\"white-space:pre;overflow-x:auto;line-height:normal;font-family:Menlo,'DejaVu Sans Mono',consolas,'Courier New',monospace\"><span style=\"color: #808000; text-decoration-color: #808000; font-weight: bold\">/tmp/ipykernel_12226/3546996492.py:</span><span style=\"color: #808000; text-decoration-color: #808000; font-weight: bold\">56</span><span style=\"color: #808000; text-decoration-color: #808000; font-weight: bold\"> SettingWithCopyWarning</span><span style=\"color: #808000; text-decoration-color: #808000\">: </span>\n",
       "<span style=\"color: #808000; text-decoration-color: #808000\">A value is trying to be set on a copy of a slice from a DataFrame.</span>\n",
       "<span style=\"color: #808000; text-decoration-color: #808000\">Try using .loc</span><span style=\"color: #808000; text-decoration-color: #808000; font-weight: bold\">[</span><span style=\"color: #808000; text-decoration-color: #808000\">row_indexer,col_indexer</span><span style=\"color: #808000; text-decoration-color: #808000; font-weight: bold\">]</span><span style=\"color: #808000; text-decoration-color: #808000\"> = value instead</span>\n",
       "\n",
       "<span style=\"color: #808000; text-decoration-color: #808000\">See the caveats in the documentation: </span><span style=\"color: #808000; text-decoration-color: #808000; text-decoration: underline\">https://pandas.pydata.org/pandas-docs/stable/user_guide/indexing.html#returning-a-view-versus-a-copy</span>\n",
       "</pre>\n"
      ],
      "text/plain": [
       "\u001b[1;33m/tmp/ipykernel_12226/\u001b[0m\u001b[1;33m3546996492.py\u001b[0m\u001b[1;33m:\u001b[0m\u001b[1;33m56\u001b[0m\u001b[1;33m SettingWithCopyWarning\u001b[0m\u001b[33m: \u001b[0m\n",
       "\u001b[33mA value is trying to be set on a copy of a slice from a DataFrame.\u001b[0m\n",
       "\u001b[33mTry using .loc\u001b[0m\u001b[1;33m[\u001b[0m\u001b[33mrow_indexer,col_indexer\u001b[0m\u001b[1;33m]\u001b[0m\u001b[33m = value instead\u001b[0m\n",
       "\n",
       "\u001b[33mSee the caveats in the documentation: \u001b[0m\u001b[4;33mhttps://pandas.pydata.org/pandas-docs/stable/user_guide/indexing.html#returning-a-view-versus-a-copy\u001b[0m\n"
      ]
     },
     "metadata": {},
     "output_type": "display_data"
    },
    {
     "data": {
      "text/html": [
       "<pre style=\"white-space:pre;overflow-x:auto;line-height:normal;font-family:Menlo,'DejaVu Sans Mono',consolas,'Courier New',monospace\"><span style=\"color: #808000; text-decoration-color: #808000; font-weight: bold\">/tmp/ipykernel_12226/3546996492.py:</span><span style=\"color: #808000; text-decoration-color: #808000; font-weight: bold\">56</span><span style=\"color: #808000; text-decoration-color: #808000; font-weight: bold\"> SettingWithCopyWarning</span><span style=\"color: #808000; text-decoration-color: #808000\">: </span>\n",
       "<span style=\"color: #808000; text-decoration-color: #808000\">A value is trying to be set on a copy of a slice from a DataFrame.</span>\n",
       "<span style=\"color: #808000; text-decoration-color: #808000\">Try using .loc</span><span style=\"color: #808000; text-decoration-color: #808000; font-weight: bold\">[</span><span style=\"color: #808000; text-decoration-color: #808000\">row_indexer,col_indexer</span><span style=\"color: #808000; text-decoration-color: #808000; font-weight: bold\">]</span><span style=\"color: #808000; text-decoration-color: #808000\"> = value instead</span>\n",
       "\n",
       "<span style=\"color: #808000; text-decoration-color: #808000\">See the caveats in the documentation: </span><span style=\"color: #808000; text-decoration-color: #808000; text-decoration: underline\">https://pandas.pydata.org/pandas-docs/stable/user_guide/indexing.html#returning-a-view-versus-a-copy</span>\n",
       "</pre>\n"
      ],
      "text/plain": [
       "\u001b[1;33m/tmp/ipykernel_12226/\u001b[0m\u001b[1;33m3546996492.py\u001b[0m\u001b[1;33m:\u001b[0m\u001b[1;33m56\u001b[0m\u001b[1;33m SettingWithCopyWarning\u001b[0m\u001b[33m: \u001b[0m\n",
       "\u001b[33mA value is trying to be set on a copy of a slice from a DataFrame.\u001b[0m\n",
       "\u001b[33mTry using .loc\u001b[0m\u001b[1;33m[\u001b[0m\u001b[33mrow_indexer,col_indexer\u001b[0m\u001b[1;33m]\u001b[0m\u001b[33m = value instead\u001b[0m\n",
       "\n",
       "\u001b[33mSee the caveats in the documentation: \u001b[0m\u001b[4;33mhttps://pandas.pydata.org/pandas-docs/stable/user_guide/indexing.html#returning-a-view-versus-a-copy\u001b[0m\n"
      ]
     },
     "metadata": {},
     "output_type": "display_data"
    },
    {
     "data": {
      "text/html": [
       "<pre style=\"white-space:pre;overflow-x:auto;line-height:normal;font-family:Menlo,'DejaVu Sans Mono',consolas,'Courier New',monospace\"><span style=\"color: #808000; text-decoration-color: #808000; font-weight: bold\">/tmp/ipykernel_12226/3546996492.py:</span><span style=\"color: #808000; text-decoration-color: #808000; font-weight: bold\">56</span><span style=\"color: #808000; text-decoration-color: #808000; font-weight: bold\"> SettingWithCopyWarning</span><span style=\"color: #808000; text-decoration-color: #808000\">: </span>\n",
       "<span style=\"color: #808000; text-decoration-color: #808000\">A value is trying to be set on a copy of a slice from a DataFrame.</span>\n",
       "<span style=\"color: #808000; text-decoration-color: #808000\">Try using .loc</span><span style=\"color: #808000; text-decoration-color: #808000; font-weight: bold\">[</span><span style=\"color: #808000; text-decoration-color: #808000\">row_indexer,col_indexer</span><span style=\"color: #808000; text-decoration-color: #808000; font-weight: bold\">]</span><span style=\"color: #808000; text-decoration-color: #808000\"> = value instead</span>\n",
       "\n",
       "<span style=\"color: #808000; text-decoration-color: #808000\">See the caveats in the documentation: </span><span style=\"color: #808000; text-decoration-color: #808000; text-decoration: underline\">https://pandas.pydata.org/pandas-docs/stable/user_guide/indexing.html#returning-a-view-versus-a-copy</span>\n",
       "</pre>\n"
      ],
      "text/plain": [
       "\u001b[1;33m/tmp/ipykernel_12226/\u001b[0m\u001b[1;33m3546996492.py\u001b[0m\u001b[1;33m:\u001b[0m\u001b[1;33m56\u001b[0m\u001b[1;33m SettingWithCopyWarning\u001b[0m\u001b[33m: \u001b[0m\n",
       "\u001b[33mA value is trying to be set on a copy of a slice from a DataFrame.\u001b[0m\n",
       "\u001b[33mTry using .loc\u001b[0m\u001b[1;33m[\u001b[0m\u001b[33mrow_indexer,col_indexer\u001b[0m\u001b[1;33m]\u001b[0m\u001b[33m = value instead\u001b[0m\n",
       "\n",
       "\u001b[33mSee the caveats in the documentation: \u001b[0m\u001b[4;33mhttps://pandas.pydata.org/pandas-docs/stable/user_guide/indexing.html#returning-a-view-versus-a-copy\u001b[0m\n"
      ]
     },
     "metadata": {},
     "output_type": "display_data"
    },
    {
     "data": {
      "text/html": [
       "<pre style=\"white-space:pre;overflow-x:auto;line-height:normal;font-family:Menlo,'DejaVu Sans Mono',consolas,'Courier New',monospace\"><span style=\"color: #808000; text-decoration-color: #808000; font-weight: bold\">/tmp/ipykernel_12226/3546996492.py:</span><span style=\"color: #808000; text-decoration-color: #808000; font-weight: bold\">56</span><span style=\"color: #808000; text-decoration-color: #808000; font-weight: bold\"> SettingWithCopyWarning</span><span style=\"color: #808000; text-decoration-color: #808000\">: </span>\n",
       "<span style=\"color: #808000; text-decoration-color: #808000\">A value is trying to be set on a copy of a slice from a DataFrame.</span>\n",
       "<span style=\"color: #808000; text-decoration-color: #808000\">Try using .loc</span><span style=\"color: #808000; text-decoration-color: #808000; font-weight: bold\">[</span><span style=\"color: #808000; text-decoration-color: #808000\">row_indexer,col_indexer</span><span style=\"color: #808000; text-decoration-color: #808000; font-weight: bold\">]</span><span style=\"color: #808000; text-decoration-color: #808000\"> = value instead</span>\n",
       "\n",
       "<span style=\"color: #808000; text-decoration-color: #808000\">See the caveats in the documentation: </span><span style=\"color: #808000; text-decoration-color: #808000; text-decoration: underline\">https://pandas.pydata.org/pandas-docs/stable/user_guide/indexing.html#returning-a-view-versus-a-copy</span>\n",
       "</pre>\n"
      ],
      "text/plain": [
       "\u001b[1;33m/tmp/ipykernel_12226/\u001b[0m\u001b[1;33m3546996492.py\u001b[0m\u001b[1;33m:\u001b[0m\u001b[1;33m56\u001b[0m\u001b[1;33m SettingWithCopyWarning\u001b[0m\u001b[33m: \u001b[0m\n",
       "\u001b[33mA value is trying to be set on a copy of a slice from a DataFrame.\u001b[0m\n",
       "\u001b[33mTry using .loc\u001b[0m\u001b[1;33m[\u001b[0m\u001b[33mrow_indexer,col_indexer\u001b[0m\u001b[1;33m]\u001b[0m\u001b[33m = value instead\u001b[0m\n",
       "\n",
       "\u001b[33mSee the caveats in the documentation: \u001b[0m\u001b[4;33mhttps://pandas.pydata.org/pandas-docs/stable/user_guide/indexing.html#returning-a-view-versus-a-copy\u001b[0m\n"
      ]
     },
     "metadata": {},
     "output_type": "display_data"
    },
    {
     "data": {
      "text/html": [
       "<pre style=\"white-space:pre;overflow-x:auto;line-height:normal;font-family:Menlo,'DejaVu Sans Mono',consolas,'Courier New',monospace\"><span style=\"color: #808000; text-decoration-color: #808000; font-weight: bold\">/tmp/ipykernel_12226/3546996492.py:</span><span style=\"color: #808000; text-decoration-color: #808000; font-weight: bold\">56</span><span style=\"color: #808000; text-decoration-color: #808000; font-weight: bold\"> SettingWithCopyWarning</span><span style=\"color: #808000; text-decoration-color: #808000\">: </span>\n",
       "<span style=\"color: #808000; text-decoration-color: #808000\">A value is trying to be set on a copy of a slice from a DataFrame.</span>\n",
       "<span style=\"color: #808000; text-decoration-color: #808000\">Try using .loc</span><span style=\"color: #808000; text-decoration-color: #808000; font-weight: bold\">[</span><span style=\"color: #808000; text-decoration-color: #808000\">row_indexer,col_indexer</span><span style=\"color: #808000; text-decoration-color: #808000; font-weight: bold\">]</span><span style=\"color: #808000; text-decoration-color: #808000\"> = value instead</span>\n",
       "\n",
       "<span style=\"color: #808000; text-decoration-color: #808000\">See the caveats in the documentation: </span><span style=\"color: #808000; text-decoration-color: #808000; text-decoration: underline\">https://pandas.pydata.org/pandas-docs/stable/user_guide/indexing.html#returning-a-view-versus-a-copy</span>\n",
       "</pre>\n"
      ],
      "text/plain": [
       "\u001b[1;33m/tmp/ipykernel_12226/\u001b[0m\u001b[1;33m3546996492.py\u001b[0m\u001b[1;33m:\u001b[0m\u001b[1;33m56\u001b[0m\u001b[1;33m SettingWithCopyWarning\u001b[0m\u001b[33m: \u001b[0m\n",
       "\u001b[33mA value is trying to be set on a copy of a slice from a DataFrame.\u001b[0m\n",
       "\u001b[33mTry using .loc\u001b[0m\u001b[1;33m[\u001b[0m\u001b[33mrow_indexer,col_indexer\u001b[0m\u001b[1;33m]\u001b[0m\u001b[33m = value instead\u001b[0m\n",
       "\n",
       "\u001b[33mSee the caveats in the documentation: \u001b[0m\u001b[4;33mhttps://pandas.pydata.org/pandas-docs/stable/user_guide/indexing.html#returning-a-view-versus-a-copy\u001b[0m\n"
      ]
     },
     "metadata": {},
     "output_type": "display_data"
    },
    {
     "data": {
      "text/html": [
       "<pre style=\"white-space:pre;overflow-x:auto;line-height:normal;font-family:Menlo,'DejaVu Sans Mono',consolas,'Courier New',monospace\"><span style=\"color: #808000; text-decoration-color: #808000; font-weight: bold\">/tmp/ipykernel_12226/3546996492.py:</span><span style=\"color: #808000; text-decoration-color: #808000; font-weight: bold\">56</span><span style=\"color: #808000; text-decoration-color: #808000; font-weight: bold\"> SettingWithCopyWarning</span><span style=\"color: #808000; text-decoration-color: #808000\">: </span>\n",
       "<span style=\"color: #808000; text-decoration-color: #808000\">A value is trying to be set on a copy of a slice from a DataFrame.</span>\n",
       "<span style=\"color: #808000; text-decoration-color: #808000\">Try using .loc</span><span style=\"color: #808000; text-decoration-color: #808000; font-weight: bold\">[</span><span style=\"color: #808000; text-decoration-color: #808000\">row_indexer,col_indexer</span><span style=\"color: #808000; text-decoration-color: #808000; font-weight: bold\">]</span><span style=\"color: #808000; text-decoration-color: #808000\"> = value instead</span>\n",
       "\n",
       "<span style=\"color: #808000; text-decoration-color: #808000\">See the caveats in the documentation: </span><span style=\"color: #808000; text-decoration-color: #808000; text-decoration: underline\">https://pandas.pydata.org/pandas-docs/stable/user_guide/indexing.html#returning-a-view-versus-a-copy</span>\n",
       "</pre>\n"
      ],
      "text/plain": [
       "\u001b[1;33m/tmp/ipykernel_12226/\u001b[0m\u001b[1;33m3546996492.py\u001b[0m\u001b[1;33m:\u001b[0m\u001b[1;33m56\u001b[0m\u001b[1;33m SettingWithCopyWarning\u001b[0m\u001b[33m: \u001b[0m\n",
       "\u001b[33mA value is trying to be set on a copy of a slice from a DataFrame.\u001b[0m\n",
       "\u001b[33mTry using .loc\u001b[0m\u001b[1;33m[\u001b[0m\u001b[33mrow_indexer,col_indexer\u001b[0m\u001b[1;33m]\u001b[0m\u001b[33m = value instead\u001b[0m\n",
       "\n",
       "\u001b[33mSee the caveats in the documentation: \u001b[0m\u001b[4;33mhttps://pandas.pydata.org/pandas-docs/stable/user_guide/indexing.html#returning-a-view-versus-a-copy\u001b[0m\n"
      ]
     },
     "metadata": {},
     "output_type": "display_data"
    },
    {
     "data": {
      "text/html": [
       "<pre style=\"white-space:pre;overflow-x:auto;line-height:normal;font-family:Menlo,'DejaVu Sans Mono',consolas,'Courier New',monospace\"><span style=\"color: #808000; text-decoration-color: #808000; font-weight: bold\">/tmp/ipykernel_12226/3546996492.py:</span><span style=\"color: #808000; text-decoration-color: #808000; font-weight: bold\">56</span><span style=\"color: #808000; text-decoration-color: #808000; font-weight: bold\"> SettingWithCopyWarning</span><span style=\"color: #808000; text-decoration-color: #808000\">: </span>\n",
       "<span style=\"color: #808000; text-decoration-color: #808000\">A value is trying to be set on a copy of a slice from a DataFrame.</span>\n",
       "<span style=\"color: #808000; text-decoration-color: #808000\">Try using .loc</span><span style=\"color: #808000; text-decoration-color: #808000; font-weight: bold\">[</span><span style=\"color: #808000; text-decoration-color: #808000\">row_indexer,col_indexer</span><span style=\"color: #808000; text-decoration-color: #808000; font-weight: bold\">]</span><span style=\"color: #808000; text-decoration-color: #808000\"> = value instead</span>\n",
       "\n",
       "<span style=\"color: #808000; text-decoration-color: #808000\">See the caveats in the documentation: </span><span style=\"color: #808000; text-decoration-color: #808000; text-decoration: underline\">https://pandas.pydata.org/pandas-docs/stable/user_guide/indexing.html#returning-a-view-versus-a-copy</span>\n",
       "</pre>\n"
      ],
      "text/plain": [
       "\u001b[1;33m/tmp/ipykernel_12226/\u001b[0m\u001b[1;33m3546996492.py\u001b[0m\u001b[1;33m:\u001b[0m\u001b[1;33m56\u001b[0m\u001b[1;33m SettingWithCopyWarning\u001b[0m\u001b[33m: \u001b[0m\n",
       "\u001b[33mA value is trying to be set on a copy of a slice from a DataFrame.\u001b[0m\n",
       "\u001b[33mTry using .loc\u001b[0m\u001b[1;33m[\u001b[0m\u001b[33mrow_indexer,col_indexer\u001b[0m\u001b[1;33m]\u001b[0m\u001b[33m = value instead\u001b[0m\n",
       "\n",
       "\u001b[33mSee the caveats in the documentation: \u001b[0m\u001b[4;33mhttps://pandas.pydata.org/pandas-docs/stable/user_guide/indexing.html#returning-a-view-versus-a-copy\u001b[0m\n"
      ]
     },
     "metadata": {},
     "output_type": "display_data"
    },
    {
     "data": {
      "text/html": [
       "<pre style=\"white-space:pre;overflow-x:auto;line-height:normal;font-family:Menlo,'DejaVu Sans Mono',consolas,'Courier New',monospace\"><span style=\"color: #808000; text-decoration-color: #808000; font-weight: bold\">/tmp/ipykernel_12226/3546996492.py:</span><span style=\"color: #808000; text-decoration-color: #808000; font-weight: bold\">56</span><span style=\"color: #808000; text-decoration-color: #808000; font-weight: bold\"> SettingWithCopyWarning</span><span style=\"color: #808000; text-decoration-color: #808000\">: </span>\n",
       "<span style=\"color: #808000; text-decoration-color: #808000\">A value is trying to be set on a copy of a slice from a DataFrame.</span>\n",
       "<span style=\"color: #808000; text-decoration-color: #808000\">Try using .loc</span><span style=\"color: #808000; text-decoration-color: #808000; font-weight: bold\">[</span><span style=\"color: #808000; text-decoration-color: #808000\">row_indexer,col_indexer</span><span style=\"color: #808000; text-decoration-color: #808000; font-weight: bold\">]</span><span style=\"color: #808000; text-decoration-color: #808000\"> = value instead</span>\n",
       "\n",
       "<span style=\"color: #808000; text-decoration-color: #808000\">See the caveats in the documentation: </span><span style=\"color: #808000; text-decoration-color: #808000; text-decoration: underline\">https://pandas.pydata.org/pandas-docs/stable/user_guide/indexing.html#returning-a-view-versus-a-copy</span>\n",
       "</pre>\n"
      ],
      "text/plain": [
       "\u001b[1;33m/tmp/ipykernel_12226/\u001b[0m\u001b[1;33m3546996492.py\u001b[0m\u001b[1;33m:\u001b[0m\u001b[1;33m56\u001b[0m\u001b[1;33m SettingWithCopyWarning\u001b[0m\u001b[33m: \u001b[0m\n",
       "\u001b[33mA value is trying to be set on a copy of a slice from a DataFrame.\u001b[0m\n",
       "\u001b[33mTry using .loc\u001b[0m\u001b[1;33m[\u001b[0m\u001b[33mrow_indexer,col_indexer\u001b[0m\u001b[1;33m]\u001b[0m\u001b[33m = value instead\u001b[0m\n",
       "\n",
       "\u001b[33mSee the caveats in the documentation: \u001b[0m\u001b[4;33mhttps://pandas.pydata.org/pandas-docs/stable/user_guide/indexing.html#returning-a-view-versus-a-copy\u001b[0m\n"
      ]
     },
     "metadata": {},
     "output_type": "display_data"
    }
   ],
   "source": [
    "merge_send2kafka()"
   ]
  },
  {
   "cell_type": "code",
   "execution_count": null,
   "metadata": {},
   "outputs": [],
   "source": []
  }
 ],
 "metadata": {
  "kernelspec": {
   "display_name": "django",
   "language": "python",
   "name": "python3"
  },
  "language_info": {
   "codemirror_mode": {
    "name": "ipython",
    "version": 3
   },
   "file_extension": ".py",
   "mimetype": "text/x-python",
   "name": "python",
   "nbconvert_exporter": "python",
   "pygments_lexer": "ipython3",
   "version": "3.10.12"
  }
 },
 "nbformat": 4,
 "nbformat_minor": 2
}
